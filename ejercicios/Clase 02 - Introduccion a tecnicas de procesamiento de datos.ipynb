{
 "cells": [
  {
   "cell_type": "code",
   "execution_count": null,
   "id": "e1be2f49",
   "metadata": {},
   "outputs": [],
   "source": [
    "# %% [markdown]\n",
    "## Técnicas de disputa y manipulación de datos\n",
    "\n"
   ]
  },
  {
   "cell_type": "markdown",
   "id": "6fe38c54",
   "metadata": {},
   "source": [
    "### 1. Filtrado de datos utilizando pandas\n",
    "\n"
   ]
  },
  {
   "cell_type": "markdown",
   "id": "d3880081",
   "metadata": {},
   "source": [
    "#### a. Importar pandas y cargar un dataset en un dataframe\n",
    "\n"
   ]
  },
  {
   "cell_type": "code",
   "execution_count": null,
   "id": "610bebc1",
   "metadata": {},
   "outputs": [],
   "source": [
    "\n",
    "# import pandas as pd\n",
    "# Cargar dataset 'iris' de sklearn\n",
    "\n",
    "# from sklearn.datasets import load_iris\n",
    "# data = load_iris()\n",
    "# df = pd.DataFrame(data.data, columns=data.feature_names)\n",
    "# Imprimir primeras filas del dataframe\n",
    "\n",
    "# print(df.head())\n",
    "\n"
   ]
  },
  {
   "cell_type": "markdown",
   "id": "6dbe5b7d",
   "metadata": {},
   "source": [
    "#### b. Filtrar datos por valor en una columna\n",
    "\n"
   ]
  },
  {
   "cell_type": "code",
   "execution_count": null,
   "id": "e2128c52",
   "metadata": {},
   "outputs": [],
   "source": [
    "# Filtrar por valor en la columna 'sepal width (cm)'\n",
    "\n",
    "# filtered_df = df[df['sepal width (cm)'] > 3.5]\n",
    "# Imprimir primeras filas del dataframe filtrado\n",
    "\n",
    "# print(filtered_df.head())\n",
    "\n"
   ]
  },
  {
   "cell_type": "markdown",
   "id": "cdaa426e",
   "metadata": {},
   "source": [
    "#### c. Filtrar datos por valor en varias columnas\n",
    "\n"
   ]
  },
  {
   "cell_type": "code",
   "execution_count": null,
   "id": "34598881",
   "metadata": {},
   "outputs": [],
   "source": [
    "# Filtrar por valor en la columna 'sepal width (cm)' y 'sepal length (cm)'\n",
    "\n",
    "# filtered_df = df[(df['sepal width (cm)'] > 3.5) & (df['sepal length (cm)'] > 7)]\n",
    "# Imprimir primeras filas del dataframe filtrado\n",
    "\n",
    "# print(filtered_df.head())\n",
    "\n"
   ]
  },
  {
   "cell_type": "markdown",
   "id": "eb5ee105",
   "metadata": {},
   "source": [
    "### 2. Clasificación de datos utilizando scikit-learn\n",
    "\n"
   ]
  },
  {
   "cell_type": "markdown",
   "id": "cee5b2db",
   "metadata": {},
   "source": [
    "#### a. Importar scikit-learn y cargar un dataset\n",
    "\n"
   ]
  },
  {
   "cell_type": "code",
   "execution_count": null,
   "id": "2a63f52d",
   "metadata": {},
   "outputs": [],
   "source": [
    "\n",
    "# from sklearn.datasets import load_iris\n",
    "# from sklearn.model_selection import train_test_split\n",
    "# Cargar dataset 'iris'\n",
    "\n",
    "# data = load_iris()\n",
    "# Separar datos en conjunto de entrenamiento y prueba\n",
    "\n",
    "# X_train, X_test, y_train, y_test = train_test_split(data.data, data.target, test_size=0.3, random_state=42)\n",
    "\n"
   ]
  },
  {
   "cell_type": "markdown",
   "id": "905c9e03",
   "metadata": {},
   "source": [
    "#### b. Entrenar un modelo de clasificación\n",
    "\n"
   ]
  },
  {
   "cell_type": "code",
   "execution_count": null,
   "id": "d29f73a9",
   "metadata": {},
   "outputs": [],
   "source": [
    "\n",
    "# from sklearn.neighbors import KNeighborsClassifier\n",
    "# Crear modelo de clasificación con 5 vecinos cercanos\n",
    "\n",
    "# knn = KNeighborsClassifier(n_neighbors=5)\n",
    "# Entrenar modelo con conjunto de entrenamiento\n",
    "\n",
    "# knn.fit(X_train, y_train)\n",
    "\n"
   ]
  },
  {
   "cell_type": "markdown",
   "id": "dc8fdbd9",
   "metadata": {},
   "source": [
    "#### c. Evaluar el modelo en el conjunto de prueba\n",
    "\n"
   ]
  },
  {
   "cell_type": "code",
   "execution_count": null,
   "id": "9547cdb4",
   "metadata": {},
   "outputs": [],
   "source": [
    "\n",
    "# from sklearn.metrics import accuracy_score\n",
    "# Predecir valores para el conjunto de prueba\n",
    "\n",
    "# y_pred = knn.predict(X_test)\n",
    "# Calcular precisión del modelo en el conjunto de prueba\n",
    "\n",
    "# accuracy = accuracy_score(y_test, y_pred)\n",
    "# Imprimir precisión del modelo\n",
    "\n",
    "# print(f'Precisión del modelo: {accuracy:.2f}')\n",
    "\n"
   ]
  },
  {
   "cell_type": "markdown",
   "id": "35714fcf",
   "metadata": {},
   "source": [
    "\n",
    "\n",
    "## Técnicas de manipulación de datos\n",
    "\n"
   ]
  },
  {
   "cell_type": "markdown",
   "id": "c387602f",
   "metadata": {},
   "source": [
    "### 1. Filtrado de datos\n",
    "#### a. Descargar un archivo csv con datos de precipitaciones de la ciudad de Buenos Aires.\n",
    "# Utilizar pandas para leer el archivo y convertirlo en un DataFrame.\n",
    "\n"
   ]
  },
  {
   "cell_type": "code",
   "execution_count": null,
   "id": "a31940a7",
   "metadata": {},
   "outputs": [],
   "source": [
    "\n",
    "# import pandas as pd\n",
    "# url = 'https://raw.githubusercontent.com/mwaskom/seaborn-data/master/precipitation.csv'\n",
    "# df = pd.read_csv(url)\n",
    "# df.head()\n",
    "\n"
   ]
  },
  {
   "cell_type": "markdown",
   "id": "b20183ba",
   "metadata": {},
   "source": [
    "#### b. Utilizar pandas para filtrar los datos y obtener únicamente los días en los que la precipitación superó los 50 mm.\n",
    "# Utilizar el método query de DataFrame de pandas para filtrar los datos y crear un nuevo DataFrame que contenga únicamente los días en los que la precipitación superó los 50 mm.\n",
    "\n"
   ]
  },
  {
   "cell_type": "code",
   "execution_count": null,
   "id": "2ff98b11",
   "metadata": {},
   "outputs": [],
   "source": [
    "\n",
    "# df_rain = df.query('total_precipitation > 50')\n",
    "# df_rain.head()\n",
    "\n"
   ]
  },
  {
   "cell_type": "markdown",
   "id": "53db4a77",
   "metadata": {},
   "source": [
    "### 2. Clasificación de datos\n",
    "#### a. Descargar un archivo csv con datos de ventas de una tienda online.\n",
    "# Utilizar pandas para leer el archivo y convertirlo en un DataFrame.\n",
    "\n"
   ]
  },
  {
   "cell_type": "code",
   "execution_count": null,
   "id": "a578a4b8",
   "metadata": {},
   "outputs": [],
   "source": [
    "\n",
    "# url = 'https://raw.githubusercontent.com/plotly/datasets/master/finance-charts-apple.csv'\n",
    "# df = pd.read_csv(url)\n",
    "# df.head()\n",
    "\n"
   ]
  },
  {
   "cell_type": "markdown",
   "id": "834c4d26",
   "metadata": {},
   "source": [
    "#### b. Clasificar los datos según la columna \"AAPL.Open\".\n",
    "# Utilizar el método sort_values de DataFrame de pandas para clasificar los datos en orden ascendente según la columna \"AAPL.Open\".\n",
    "\n"
   ]
  },
  {
   "cell_type": "code",
   "execution_count": null,
   "id": "3eae272e",
   "metadata": {},
   "outputs": [],
   "source": [
    "\n",
    "# df_sorted = df.sort_values('AAPL.Open')\n",
    "# df_sorted.head()\n",
    "\n"
   ]
  },
  {
   "cell_type": "markdown",
   "id": "c37f70fd",
   "metadata": {},
   "source": [
    "### 3. Fusión de datos\n",
    "#### a. Descargar dos archivos csv con datos de ventas de dos tiendas online distintas.\n",
    "# Utilizar pandas para leer los archivos y convertirlos en DataFrames.\n",
    "\n"
   ]
  },
  {
   "cell_type": "code",
   "execution_count": null,
   "id": "e0c509a8",
   "metadata": {},
   "outputs": [],
   "source": [
    "\n",
    "# url1 = 'https://raw.githubusercontent.com/plotly/datasets/master/finance-charts-apple.csv'\n",
    "# url2 = 'https://raw.githubusercontent.com/plotly/datasets/master/finance-charts-amazon.csv'\n",
    "\n",
    "# df1 = pd.read_csv(url1)\n",
    "# df2 = pd.read_csv(url2)\n",
    "\n"
   ]
  },
  {
   "cell_type": "markdown",
   "id": "34409435",
   "metadata": {},
   "source": [
    "#### b. Fusionar los dos DataFrames en uno solo.\n",
    "# Utilizar el método concat de DataFrame de pandas para fusionar los dos DataFrames en uno solo.\n",
    "\n"
   ]
  },
  {
   "cell_type": "code",
   "execution_count": null,
   "id": "07efa0a6",
   "metadata": {},
   "outputs": [],
   "source": [
    "\n",
    "# df_merged = pd.concat([df1, df2])\n",
    "# df_merged.head()\n",
    "\n",
    "\n",
    "\n"
   ]
  },
  {
   "cell_type": "markdown",
   "id": "7d54f373",
   "metadata": {},
   "source": [
    "## Agregación y resumen de datos\n",
    "\n"
   ]
  },
  {
   "cell_type": "markdown",
   "id": "6de4c285",
   "metadata": {},
   "source": [
    "### Ejercicio 1\n",
    "# Se tiene un DataFrame con información de ventas de una tienda online. Cada fila representa una venta con los siguientes campos:\n",
    "# * id_venta (int): identificador de la venta.\n",
    "# * fecha_venta (str): fecha de la venta en formato \"dd/mm/yyyy\".\n",
    "# * hora_venta (str): hora de la venta en formato \"hh:mm:ss\".\n",
    "# * nombre_producto (str): nombre del producto vendido.\n",
    "# * cantidad (int): cantidad vendida.\n",
    "# * precio_unitario (float): precio unitario del producto vendido.\n",
    "# El DataFrame se encuentra en el archivo \"ventas.csv\". Se pide:\n",
    "#### a. Cargar el archivo \"ventas.csv\" como un DataFrame de pandas.\n",
    "# ```python\n",
    "# import pandas as pd\n",
    "# ventas = pd.read_csv('ventas.csv')\n",
    "# ```\n",
    "\n"
   ]
  },
  {
   "cell_type": "markdown",
   "id": "62afa9f0",
   "metadata": {},
   "source": [
    "#### b. Obtener el promedio de precio_unitario de todos los productos.\n",
    "# ```python\n",
    "# ventas['precio_unitario'].mean()\n",
    "# ```\n",
    "\n"
   ]
  },
  {
   "cell_type": "markdown",
   "id": "80aa0eff",
   "metadata": {},
   "source": [
    "#### c. Obtener la cantidad total de productos vendidos.\n",
    "# ```python\n",
    "# ventas['cantidad'].sum()\n",
    "# ```\n",
    "\n"
   ]
  },
  {
   "cell_type": "markdown",
   "id": "bd2a432f",
   "metadata": {},
   "source": [
    "#### d. Obtener el número de ventas realizadas por cada día.\n",
    "# ```python\n",
    "# ventas['fecha_venta'] = pd.to_datetime(ventas['fecha_venta'], format='%d/%m/%Y')\n",
    "# ventas['fecha_venta'].dt.date.value_counts()\n",
    "# ```\n",
    "\n"
   ]
  },
  {
   "cell_type": "markdown",
   "id": "3fa22d59",
   "metadata": {},
   "source": [
    "#### e. Obtener el producto más vendido.\n",
    "# ```python\n",
    "# ventas.groupby('nombre_producto')['cantidad'].sum().idxmax()\n",
    "# ```\n",
    "\n"
   ]
  },
  {
   "cell_type": "markdown",
   "id": "9ba21c80",
   "metadata": {},
   "source": [
    "#### f. Obtener el día que más productos se vendieron.\n",
    "# ```python\n",
    "# ventas['fecha_venta'] = pd.to_datetime(ventas['fecha_venta'], format='%d/%m/%Y')\n",
    "# ventas.groupby(ventas['fecha_venta'].dt.date)['cantidad'].sum().idxmax()\n",
    "# ```\n",
    "\n",
    "\n",
    "\n"
   ]
  },
  {
   "cell_type": "markdown",
   "id": "6bd311b0",
   "metadata": {},
   "source": [
    "# Ejercicios de Agregación y Resumen de Datos\n",
    "## Ejercicio 1: Cálculo de estadísticas descriptivas\n",
    "### a. Cargar un conjunto de datos y mostrar sus primeras filas y columnas:\n",
    "\n"
   ]
  },
  {
   "cell_type": "code",
   "execution_count": null,
   "id": "0372f721",
   "metadata": {},
   "outputs": [],
   "source": [
    "\n",
    "# import pandas as pd\n",
    "\n",
    "# df = pd.read_csv('ruta_del_archivo.csv')\n",
    "# df.head()\n",
    "\n"
   ]
  },
  {
   "cell_type": "markdown",
   "id": "0bede8e9",
   "metadata": {},
   "source": [
    "### b. Calcular las siguientes estadísticas descriptivas de una columna numérica:\n",
    "#### i. Media:\n",
    "\n"
   ]
  },
  {
   "cell_type": "code",
   "execution_count": null,
   "id": "155f3601",
   "metadata": {},
   "outputs": [],
   "source": [
    "\n",
    "# df['columna_numerica'].mean()\n",
    "\n"
   ]
  },
  {
   "cell_type": "markdown",
   "id": "69f8f586",
   "metadata": {},
   "source": [
    "#### ii. Desviación estándar:\n",
    "\n"
   ]
  },
  {
   "cell_type": "code",
   "execution_count": null,
   "id": "cf700a3d",
   "metadata": {},
   "outputs": [],
   "source": [
    "\n",
    "# df['columna_numerica'].std()\n",
    "\n"
   ]
  },
  {
   "cell_type": "markdown",
   "id": "7c417921",
   "metadata": {},
   "source": [
    "#### iii. Valor máximo:\n",
    "\n"
   ]
  },
  {
   "cell_type": "code",
   "execution_count": null,
   "id": "1a8527f0",
   "metadata": {},
   "outputs": [],
   "source": [
    "\n",
    "# df['columna_numerica'].max()\n",
    "\n"
   ]
  },
  {
   "cell_type": "markdown",
   "id": "1a833656",
   "metadata": {},
   "source": [
    "#### iv. Valor mínimo:\n",
    "\n"
   ]
  },
  {
   "cell_type": "code",
   "execution_count": null,
   "id": "bd7d43c5",
   "metadata": {},
   "outputs": [],
   "source": [
    "\n",
    "# df['columna_numerica'].min()\n",
    "\n"
   ]
  },
  {
   "cell_type": "markdown",
   "id": "a68cee0c",
   "metadata": {},
   "source": [
    "## Ejercicio 2: Cálculo de frecuencias\n",
    "### a. Cargar un conjunto de datos y mostrar sus primeras filas y columnas:\n",
    "\n"
   ]
  },
  {
   "cell_type": "code",
   "execution_count": null,
   "id": "760aae62",
   "metadata": {},
   "outputs": [],
   "source": [
    "\n",
    "# import pandas as pd\n",
    "\n",
    "# df = pd.read_csv('ruta_del_archivo.csv')\n",
    "# df.head()\n",
    "\n"
   ]
  },
  {
   "cell_type": "markdown",
   "id": "e6107f12",
   "metadata": {},
   "source": [
    "### b. Calcular la frecuencia de una columna categórica:\n",
    "#### i. Contar el número de veces que aparece cada valor de la columna:\n",
    "\n"
   ]
  },
  {
   "cell_type": "code",
   "execution_count": null,
   "id": "7a749260",
   "metadata": {},
   "outputs": [],
   "source": [
    "\n",
    "# df['columna_categorica'].value_counts()\n",
    "\n"
   ]
  },
  {
   "cell_type": "markdown",
   "id": "dc5f982d",
   "metadata": {},
   "source": [
    "#### ii. Calcular el porcentaje de cada valor de la columna:\n",
    "\n"
   ]
  },
  {
   "cell_type": "code",
   "execution_count": null,
   "id": "864e8c6d",
   "metadata": {},
   "outputs": [],
   "source": [
    "\n",
    "# df['columna_categorica'].value_counts(normalize=True) * 100\n",
    "\n"
   ]
  },
  {
   "cell_type": "markdown",
   "id": "a8aabfe9",
   "metadata": {},
   "source": [
    "## Ejercicio 3: Agrupación de datos\n",
    "### a. Cargar un conjunto de datos y mostrar sus primeras filas y columnas:\n",
    "\n"
   ]
  },
  {
   "cell_type": "code",
   "execution_count": null,
   "id": "3fd81c05",
   "metadata": {},
   "outputs": [],
   "source": [
    "\n",
    "# import pandas as pd\n",
    "\n",
    "# df = pd.read_csv('ruta_del_archivo.csv')\n",
    "# df.head()\n",
    "\n"
   ]
  },
  {
   "cell_type": "markdown",
   "id": "f05395ca",
   "metadata": {},
   "source": [
    "### b. Agrupar el conjunto de datos por una columna y calcular la media de otra columna:\n",
    "#### i. Agrupar por una columna:\n",
    "\n"
   ]
  },
  {
   "cell_type": "code",
   "execution_count": null,
   "id": "77e37ba4",
   "metadata": {},
   "outputs": [],
   "source": [
    "\n",
    "# df_agrupado = df.groupby('columna_a_agrupar')\n",
    "\n"
   ]
  },
  {
   "cell_type": "markdown",
   "id": "84004eea",
   "metadata": {},
   "source": [
    "#### ii. Calcular la media de otra columna para cada grupo:\n",
    "\n"
   ]
  },
  {
   "cell_type": "code",
   "execution_count": null,
   "id": "66a45826",
   "metadata": {},
   "outputs": [],
   "source": [
    "\n",
    "# df_agrupado['columna_a_calcular_media'].mean()\n",
    "\n"
   ]
  },
  {
   "cell_type": "markdown",
   "id": "7c5e29a1",
   "metadata": {},
   "source": [
    "### c. Ordenar los resultados por el valor de la media:\n",
    "#### i. Ordenar de forma ascendente:\n",
    "\n"
   ]
  },
  {
   "cell_type": "code",
   "execution_count": null,
   "id": "cdd569ed",
   "metadata": {},
   "outputs": [],
   "source": [
    "\n",
    "# df_agrupado['columna_a_calcular_media'].mean().sort_values()\n",
    "\n"
   ]
  },
  {
   "cell_type": "markdown",
   "id": "e9ebd2eb",
   "metadata": {},
   "source": [
    "#### ii. Ordenar de forma descendente:\n",
    "\n"
   ]
  },
  {
   "cell_type": "code",
   "execution_count": null,
   "id": "1d95fb18",
   "metadata": {},
   "outputs": [],
   "source": [
    "\n",
    "# df_agrupado['columna_a_calcular_media'].mean().sort_values(ascending=False)\n",
    "\n",
    "\n"
   ]
  },
  {
   "cell_type": "markdown",
   "id": "6a237c17",
   "metadata": {},
   "source": [
    "## Agregación y resumen de datos\n",
    "\n"
   ]
  },
  {
   "cell_type": "markdown",
   "id": "879d0e2c",
   "metadata": {},
   "source": [
    "### 1. Calcular la media, la mediana y la moda de un conjunto de datos utilizando NumPy y Pandas.\n",
    "\n"
   ]
  },
  {
   "cell_type": "markdown",
   "id": "cae07e35",
   "metadata": {},
   "source": [
    "#### a. Importar NumPy y Pandas:\n",
    "\n"
   ]
  },
  {
   "cell_type": "code",
   "execution_count": null,
   "id": "9269df8a",
   "metadata": {},
   "outputs": [],
   "source": [
    "\n",
    "# import numpy as np\n",
    "# import pandas as pd\n",
    "\n"
   ]
  },
  {
   "cell_type": "markdown",
   "id": "8b443b67",
   "metadata": {},
   "source": [
    "#### b. Crear un conjunto de datos de ejemplo:\n",
    "\n"
   ]
  },
  {
   "cell_type": "code",
   "execution_count": null,
   "id": "88917539",
   "metadata": {},
   "outputs": [],
   "source": [
    "\n",
    "# datos = [1, 2, 2, 3, 3, 3, 4, 4, 5]\n",
    "\n"
   ]
  },
  {
   "cell_type": "markdown",
   "id": "987d52cc",
   "metadata": {},
   "source": [
    "#### c. Calcular la media utilizando NumPy y Pandas:\n",
    "\n"
   ]
  },
  {
   "cell_type": "code",
   "execution_count": null,
   "id": "6a6161e6",
   "metadata": {},
   "outputs": [],
   "source": [
    "\n",
    "# media_np = np.mean(datos)\n",
    "# media_pd = pd.Series(datos).mean()\n",
    "\n",
    "# print(f\"Media usando NumPy: {media_np}\")\n",
    "# print(f\"Media usando Pandas: {media_pd}\")\n",
    "\n"
   ]
  },
  {
   "cell_type": "markdown",
   "id": "ddfbdd76",
   "metadata": {},
   "source": [
    "#### d. Calcular la mediana utilizando NumPy y Pandas:\n",
    "\n"
   ]
  },
  {
   "cell_type": "code",
   "execution_count": null,
   "id": "82c7490b",
   "metadata": {},
   "outputs": [],
   "source": [
    "\n",
    "# mediana_np = np.median(datos)\n",
    "# mediana_pd = pd.Series(datos).median()\n",
    "\n",
    "# print(f\"Mediana usando NumPy: {mediana_np}\")\n",
    "# print(f\"Mediana usando Pandas: {mediana_pd}\")\n",
    "\n"
   ]
  },
  {
   "cell_type": "markdown",
   "id": "b1c1f707",
   "metadata": {},
   "source": [
    "#### e. Calcular la moda utilizando Pandas:\n",
    "\n"
   ]
  },
  {
   "cell_type": "code",
   "execution_count": null,
   "id": "b8bc5817",
   "metadata": {},
   "outputs": [],
   "source": [
    "\n",
    "# moda_pd = pd.Series(datos).mode()\n",
    "\n",
    "# print(f\"Moda usando Pandas: {moda_pd}\")\n",
    "\n"
   ]
  },
  {
   "cell_type": "code",
   "execution_count": null,
   "id": "7a2a7403",
   "metadata": {},
   "outputs": [],
   "source": [
    "\n"
   ]
  },
  {
   "cell_type": "markdown",
   "id": "e3df0ae7",
   "metadata": {},
   "source": [
    "## Introducción a la visualización de datos\n",
    "\n",
    "\n"
   ]
  },
  {
   "cell_type": "markdown",
   "id": "1af39444",
   "metadata": {},
   "source": [
    "### 1. Utilizar la librería Matplotlib para crear un gráfico de barras a partir de un conjunto de datos.\n",
    "\n",
    "\n"
   ]
  },
  {
   "cell_type": "markdown",
   "id": "66b5f11a",
   "metadata": {},
   "source": [
    "#### a. Importar Matplotlib y los datos a utilizar:\n",
    "\n",
    "\n"
   ]
  },
  {
   "cell_type": "code",
   "execution_count": null,
   "id": "d62a1da5",
   "metadata": {},
   "outputs": [],
   "source": [
    "import matplotlib.pyplot as plt\n",
    "\n",
    "x = ['Manzanas', 'Bananas', 'Naranjas']\n",
    "y = [25, 45, 30]\n",
    "\n",
    "\n"
   ]
  },
  {
   "cell_type": "markdown",
   "id": "e6d72f37",
   "metadata": {},
   "source": [
    "#### b. Crear el gráfico de barras utilizando la función bar de Matplotlib:\n",
    "\n",
    "\n"
   ]
  },
  {
   "cell_type": "code",
   "execution_count": null,
   "id": "4da0b6f9",
   "metadata": {},
   "outputs": [],
   "source": [
    "plt.bar(x, y)\n",
    "\n",
    "\n"
   ]
  },
  {
   "cell_type": "markdown",
   "id": "cdb28e68",
   "metadata": {},
   "source": [
    "#### c. Personalizar el gráfico con etiquetas de eje y un título:\n",
    "\n",
    "\n"
   ]
  },
  {
   "cell_type": "code",
   "execution_count": null,
   "id": "7d9c872b",
   "metadata": {},
   "outputs": [],
   "source": [
    "plt.title('Ventas de Frutas')\n",
    "plt.xlabel('Frutas')\n",
    "plt.ylabel('Ventas')\n",
    "plt.show()\n",
    "\n",
    "\n",
    "\n"
   ]
  },
  {
   "cell_type": "markdown",
   "id": "2d8f14e6",
   "metadata": {},
   "source": [
    "### 2. Utilizar Seaborn para crear un gráfico de distribución de datos.\n",
    "\n",
    "\n"
   ]
  },
  {
   "cell_type": "markdown",
   "id": "27002c9b",
   "metadata": {},
   "source": [
    "#### a. Importar Seaborn y cargar los datos a utilizar:\n",
    "\n",
    "\n"
   ]
  },
  {
   "cell_type": "code",
   "execution_count": null,
   "id": "5d217449",
   "metadata": {},
   "outputs": [],
   "source": [
    "import seaborn as sns\n",
    "\n",
    "tips = sns.load_dataset('tips')\n",
    "\n",
    "\n"
   ]
  },
  {
   "cell_type": "markdown",
   "id": "dd828e0f",
   "metadata": {},
   "source": [
    "#### b. Crear el gráfico de distribución utilizando la función distplot de Seaborn:\n",
    "\n",
    "\n"
   ]
  },
  {
   "cell_type": "code",
   "execution_count": null,
   "id": "8ba10887",
   "metadata": {},
   "outputs": [],
   "source": [
    "sns.distplot(tips['total_bill'])\n",
    "\n",
    "\n"
   ]
  },
  {
   "cell_type": "markdown",
   "id": "5e12c602",
   "metadata": {},
   "source": [
    "#### c. Personalizar el gráfico con etiquetas de eje y un título:\n",
    "\n",
    "\n"
   ]
  },
  {
   "cell_type": "code",
   "execution_count": null,
   "id": "0d9da202",
   "metadata": {},
   "outputs": [],
   "source": [
    "plt.title('Distribución de la cuenta total')\n",
    "plt.xlabel('Total de la cuenta')\n",
    "plt.show()\n",
    "\n",
    "\n"
   ]
  },
  {
   "cell_type": "markdown",
   "id": "16c2f8bc",
   "metadata": {},
   "source": [
    "### 3. Utilizar Plotly para crear un gráfico de dispersión animado.\n",
    "\n",
    "\n"
   ]
  },
  {
   "cell_type": "markdown",
   "id": "5be0f4fe",
   "metadata": {},
   "source": [
    "#### a. Importar Plotly y cargar los datos a utilizar:\n",
    "\n",
    "\n"
   ]
  },
  {
   "cell_type": "code",
   "execution_count": null,
   "id": "d99547eb",
   "metadata": {},
   "outputs": [],
   "source": [
    "import plotly.express as px\n",
    "\n",
    "df = px.data.gapminder()\n",
    "df_2007 = df[df['year']==2007]\n",
    "\n",
    "\n"
   ]
  },
  {
   "cell_type": "markdown",
   "id": "8d312c84",
   "metadata": {},
   "source": [
    "#### b. Crear el gráfico de dispersión animado utilizando la función scatter de Plotly:\n",
    "\n",
    "\n"
   ]
  },
  {
   "cell_type": "code",
   "execution_count": null,
   "id": "21a08c8b",
   "metadata": {},
   "outputs": [],
   "source": [
    "fig = px.scatter(df_2007, x=\"gdpPercap\", y=\"lifeExp\", size=\"pop\", color=\"continent\", hover_name=\"country\", log_x=True, size_max=60)\n",
    "fig.show()\n",
    "\n",
    "\n"
   ]
  },
  {
   "cell_type": "markdown",
   "id": "e297890a",
   "metadata": {},
   "source": [
    "#### c. Personalizar el gráfico con un título y etiquetas de eje:\n",
    "\n",
    "\n"
   ]
  },
  {
   "cell_type": "code",
   "execution_count": null,
   "id": "95dd122e",
   "metadata": {},
   "outputs": [],
   "source": [
    "fig.update_layout(title='PBI per capita vs Esperanza de vida (2007)',\n",
    "                  xaxis_title='PBI per capita',\n",
    "                  yaxis_title='Esperanza de vida')\n",
    "fig.show()\n",
    "\n",
    "\n",
    "\n"
   ]
  },
  {
   "cell_type": "markdown",
   "id": "21d62f76",
   "metadata": {},
   "source": [
    "## Almacenamiento y recuperación de datos\n",
    "\n",
    "\n"
   ]
  },
  {
   "cell_type": "markdown",
   "id": "29cfd01c",
   "metadata": {},
   "source": [
    "### 1. Utilizar SQL para crear una tabla e insertar datos en ella.\n",
    "\n",
    "\n"
   ]
  },
  {
   "cell_type": "markdown",
   "id": "01ebb0c6",
   "metadata": {},
   "source": [
    "#### a. Conectar a una base de datos existente o crear una nueva:\n",
    "\n",
    "\n"
   ]
  },
  {
   "cell_type": "code",
   "execution_count": null,
   "id": "06f80fc4",
   "metadata": {},
   "outputs": [],
   "source": [
    "import sqlite3\n",
    "\n",
    "conn = sqlite3.connect('example.db')\n",
    "\n",
    "\n"
   ]
  },
  {
   "cell_type": "markdown",
   "id": "73b48877",
   "metadata": {},
   "source": [
    "#### b. Crear una tabla con los campos deseados:\n",
    "\n",
    "\n"
   ]
  },
  {
   "cell_type": "code",
   "execution_count": null,
   "id": "31591f45",
   "metadata": {},
   "outputs": [],
   "source": [
    "c = conn.cursor()\n",
    "\n",
    "c.execute('''CREATE TABLE empleados\n",
    "             (nombre text, apellido text, edad int, salario real)''')\n",
    "\n",
    "\n"
   ]
  },
  {
   "cell_type": "markdown",
   "id": "e9a5f615",
   "metadata": {},
   "source": [
    "#### c. Insertar datos en la tabla:\n",
    "\n",
    "\n"
   ]
  },
  {
   "cell_type": "code",
   "execution_count": null,
   "id": "724232e4",
   "metadata": {},
   "outputs": [],
   "source": [
    "c.execute(\"INSERT INTO empleados VALUES ('Juan', 'Pérez', 30, 5000.0)\")\n",
    "c.execute(\"INSERT INTO empleados VALUES ('María', 'Gómez', 35, 6000.0)\")\n",
    "c.execute(\"INSERT INTO empleados VALUES ('Pedro', 'Rodríguez', 25, 4000.0)\")\n",
    "\n",
    "\n"
   ]
  },
  {
   "cell_type": "markdown",
   "id": "b2383ccc",
   "metadata": {},
   "source": [
    "#### d. Guardar los cambios y cerrar la conexión:\n",
    "\n",
    "\n"
   ]
  },
  {
   "cell_type": "code",
   "execution_count": null,
   "id": "af88bc40",
   "metadata": {},
   "outputs": [],
   "source": [
    "conn.commit()\n",
    "conn.close()\n",
    "\n",
    "\n"
   ]
  },
  {
   "cell_type": "markdown",
   "id": "7bc97ca6",
   "metadata": {},
   "source": [
    "### 2. Utilizar SQL para realizar consultas a una base de datos.\n",
    "\n",
    "\n"
   ]
  },
  {
   "cell_type": "markdown",
   "id": "2926b893",
   "metadata": {},
   "source": [
    "#### a. Conectar a la base de datos creada en el ejercicio anterior:\n",
    "\n",
    "\n"
   ]
  },
  {
   "cell_type": "code",
   "execution_count": null,
   "id": "25cb47a3",
   "metadata": {},
   "outputs": [],
   "source": [
    "conn = sqlite3.connect('example.db')\n",
    "\n",
    "\n"
   ]
  },
  {
   "cell_type": "markdown",
   "id": "6ca56e59",
   "metadata": {},
   "source": [
    "#### b. Realizar una consulta simple:\n",
    "\n",
    "\n"
   ]
  },
  {
   "cell_type": "code",
   "execution_count": null,
   "id": "3ca4cec1",
   "metadata": {},
   "outputs": [],
   "source": [
    "c = conn.cursor()\n",
    "\n",
    "for row in c.execute('SELECT * FROM empleados'):\n",
    "    print(row)\n",
    "\n",
    "\n"
   ]
  },
  {
   "cell_type": "markdown",
   "id": "ddf4f0eb",
   "metadata": {},
   "source": [
    "#### c. Realizar una consulta más compleja:\n",
    "\n",
    "\n"
   ]
  },
  {
   "cell_type": "code",
   "execution_count": null,
   "id": "3bb5bfd4",
   "metadata": {},
   "outputs": [],
   "source": [
    "for row in c.execute('SELECT nombre, salario FROM empleados WHERE edad > 30'):\n",
    "    print(row)\n",
    "\n",
    "\n"
   ]
  },
  {
   "cell_type": "markdown",
   "id": "722f2a28",
   "metadata": {},
   "source": [
    "#### d. Cerrar la conexión:\n",
    "\n",
    "\n"
   ]
  },
  {
   "cell_type": "code",
   "execution_count": null,
   "id": "f5f9002f",
   "metadata": {},
   "outputs": [],
   "source": [
    "conn.close()\n",
    "\n",
    "\n",
    "\n"
   ]
  },
  {
   "cell_type": "markdown",
   "id": "9cfe73fe",
   "metadata": {},
   "source": [
    "## Almacenamiento y recuperación de datos\n",
    "\n",
    "\n"
   ]
  },
  {
   "cell_type": "markdown",
   "id": "d112ffb1",
   "metadata": {},
   "source": [
    "### 1. Crear una base de datos SQLite y una tabla para almacenar información de clientes.\n",
    "\n",
    "\n"
   ]
  },
  {
   "cell_type": "markdown",
   "id": "a8298011",
   "metadata": {},
   "source": [
    "#### a. Importar la librería SQLite3 y crear una conexión a una nueva base de datos:\n",
    "\n",
    "\n"
   ]
  },
  {
   "cell_type": "code",
   "execution_count": null,
   "id": "fd64542c",
   "metadata": {},
   "outputs": [],
   "source": [
    "import sqlite3\n",
    "\n",
    "conn = sqlite3.connect('clientes.db')\n",
    "\n",
    "\n"
   ]
  },
  {
   "cell_type": "markdown",
   "id": "b317dd20",
   "metadata": {},
   "source": [
    "#### b. Crear una tabla para almacenar información de clientes:\n",
    "\n",
    "\n"
   ]
  },
  {
   "cell_type": "code",
   "execution_count": null,
   "id": "4dd3cd89",
   "metadata": {},
   "outputs": [],
   "source": [
    "c = conn.cursor()\n",
    "\n",
    "c.execute('''CREATE TABLE clientes\n",
    "             (id INTEGER PRIMARY KEY, nombre TEXT, edad INTEGER, email TEXT)''')\n",
    "\n",
    "\n"
   ]
  },
  {
   "cell_type": "markdown",
   "id": "a67ec4a9",
   "metadata": {},
   "source": [
    "#### c. Insertar algunos datos de ejemplo en la tabla:\n",
    "\n",
    "\n"
   ]
  },
  {
   "cell_type": "code",
   "execution_count": null,
   "id": "42f938dc",
   "metadata": {},
   "outputs": [],
   "source": [
    "c.execute(\"INSERT INTO clientes VALUES (1, 'Juan', 25, 'juan@gmail.com')\")\n",
    "c.execute(\"INSERT INTO clientes VALUES (2, 'María', 30, 'maria@gmail.com')\")\n",
    "c.execute(\"INSERT INTO clientes VALUES (3, 'Pedro', 20, 'pedro@gmail.com')\")\n",
    "\n",
    "# Guardar los cambios\n",
    "conn.commit()\n",
    "\n",
    "\n"
   ]
  },
  {
   "cell_type": "markdown",
   "id": "57fc3ab5",
   "metadata": {},
   "source": [
    "#### d. Consultar los datos almacenados en la tabla:\n",
    "\n",
    "\n"
   ]
  },
  {
   "cell_type": "code",
   "execution_count": null,
   "id": "18ab1702",
   "metadata": {},
   "outputs": [],
   "source": [
    "c.execute(\"SELECT * FROM clientes\")\n",
    "\n",
    "for row in c:\n",
    "    print(row)\n",
    "\n",
    "\n"
   ]
  },
  {
   "cell_type": "markdown",
   "id": "6dff5cca",
   "metadata": {},
   "source": [
    "### 2. Crear una base de datos MongoDB y una colección para almacenar información de productos.\n",
    "\n",
    "\n"
   ]
  },
  {
   "cell_type": "markdown",
   "id": "f7bcf129",
   "metadata": {},
   "source": [
    "#### a. Importar la librería pymongo y crear una conexión a un servidor de MongoDB:\n",
    "\n",
    "\n"
   ]
  },
  {
   "cell_type": "code",
   "execution_count": null,
   "id": "ff9b78c8",
   "metadata": {},
   "outputs": [],
   "source": [
    "import pymongo\n",
    "\n",
    "client = pymongo.MongoClient('mongodb://localhost:27017/')\n",
    "\n",
    "\n"
   ]
  },
  {
   "cell_type": "markdown",
   "id": "0a547df7",
   "metadata": {},
   "source": [
    "#### b. Crear una base de datos y una colección para almacenar información de productos:\n",
    "\n",
    "\n"
   ]
  },
  {
   "cell_type": "code",
   "execution_count": null,
   "id": "149387d0",
   "metadata": {},
   "outputs": [],
   "source": [
    "db = client['mi_database']\n",
    "col = db['productos']\n",
    "\n",
    "\n"
   ]
  },
  {
   "cell_type": "markdown",
   "id": "3b697e57",
   "metadata": {},
   "source": [
    "#### c. Insertar algunos datos de ejemplo en la colección:\n",
    "\n",
    "\n"
   ]
  },
  {
   "cell_type": "code",
   "execution_count": null,
   "id": "5e0e5f12",
   "metadata": {},
   "outputs": [],
   "source": [
    "producto1 = {'nombre': 'Manzanas', 'precio': 2.5, 'stock': 100}\n",
    "producto2 = {'nombre': 'Bananas', 'precio': 1.5, 'stock': 50}\n",
    "producto3 = {'nombre': 'Naranjas', 'precio': 3, 'stock': 75}\n",
    "\n",
    "col.insert_many([producto1, producto2, producto3])\n",
    "\n",
    "\n"
   ]
  },
  {
   "cell_type": "markdown",
   "id": "700b9572",
   "metadata": {},
   "source": [
    "#### d. Consultar los datos almacenados en la colección:\n",
    "\n",
    "\n"
   ]
  },
  {
   "cell_type": "code",
   "execution_count": null,
   "id": "1904c0cf",
   "metadata": {},
   "outputs": [],
   "source": [
    "for prod in col.find():\n",
    "    print(prod)"
   ]
  }
 ],
 "metadata": {},
 "nbformat": 4,
 "nbformat_minor": 5
}
