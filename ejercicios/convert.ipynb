{
 "cells": [
  {
   "cell_type": "code",
   "execution_count": 17,
   "metadata": {},
   "outputs": [],
   "source": [
    "import re\n",
    "import nbformat\n",
    "\n",
    "filename = \"test.py\"\n",
    "\n",
    "with open(filename, \"r\") as f:\n",
    "    text = f.read()\n",
    "\n",
    "# Split cells based on \"# %% [markdown]\" and \"# %%\"\n",
    "split_text = re.split(r\"\\n(# %% \\[markdown\\]\\n|# %%\\n)\", text)\n",
    "\n",
    "# Remove empty strings from split_text\n",
    "split_text = [s for s in split_text if s]\n",
    "\n",
    "# Initialize notebook\n",
    "nb = nbformat.v4.new_notebook()\n",
    "\n",
    "# Add cells to notebook\n",
    "for i in range(0, len(split_text), 2):\n",
    "    cell_type = \"markdown\" if \"markdown\" in split_text[i - 1] else \"code\"\n",
    "    source = split_text[i].replace('# #','#')\n",
    "    nb.cells.append(nbformat.v4.new_code_cell(source) if cell_type == \"code\" else nbformat.v4.new_markdown_cell(source))\n",
    "\n",
    "# Save notebook as .ipynb file\n",
    "nbformat.write(nb, \"test.ipynb\")\n"
   ]
  },
  {
   "cell_type": "code",
   "execution_count": null,
   "metadata": {},
   "outputs": [],
   "source": []
  }
 ],
 "metadata": {
  "kernelspec": {
   "display_name": "base",
   "language": "python",
   "name": "python3"
  },
  "language_info": {
   "codemirror_mode": {
    "name": "ipython",
    "version": 3
   },
   "file_extension": ".py",
   "mimetype": "text/x-python",
   "name": "python",
   "nbconvert_exporter": "python",
   "pygments_lexer": "ipython3",
   "version": "3.9.13"
  },
  "orig_nbformat": 4
 },
 "nbformat": 4,
 "nbformat_minor": 2
}
