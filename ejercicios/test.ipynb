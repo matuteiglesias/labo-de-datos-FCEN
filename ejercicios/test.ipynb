{
 "cells": [
  {
   "cell_type": "code",
   "execution_count": null,
   "id": "736e52b6",
   "metadata": {},
   "outputs": [],
   "source": [
    "# %% [markdown]\n",
    "## Procesamiento de audio y video\n"
   ]
  },
  {
   "cell_type": "markdown",
   "id": "20c62833",
   "metadata": {},
   "source": [
    "### 1. Utilizar la librería librosa de Python para cargar un archivo de audio y crear un espectrograma del mismo.\n"
   ]
  },
  {
   "cell_type": "markdown",
   "id": "15d1967b",
   "metadata": {},
   "source": [
    "#### a. Descargar un archivo de audio en formato WAV desde alguna fuente en línea o utilizar uno propio.\n"
   ]
  },
  {
   "cell_type": "code",
   "execution_count": null,
   "id": "36b70e07",
   "metadata": {},
   "outputs": [],
   "source": [
    "\n"
   ]
  },
  {
   "cell_type": "markdown",
   "id": "52fc5aab",
   "metadata": {},
   "source": [
    "#### b. Instalar la librería librosa de Python utilizando pip: pip install librosa.\n"
   ]
  },
  {
   "cell_type": "code",
   "execution_count": null,
   "id": "ff696fcd",
   "metadata": {},
   "outputs": [],
   "source": [
    "\n"
   ]
  },
  {
   "cell_type": "markdown",
   "id": "3bae3c9e",
   "metadata": {},
   "source": [
    "#### c. Importar librosa y cargar el archivo de audio utilizando la función load:\n"
   ]
  },
  {
   "cell_type": "code",
   "execution_count": null,
   "id": "3d4c88ea",
   "metadata": {},
   "outputs": [],
   "source": [
    "```\n",
    "import librosa\n",
    "audio, sr = librosa.load('ruta_del_archivo_de_audio.wav')\n",
    "```\n",
    "\n"
   ]
  },
  {
   "cell_type": "markdown",
   "id": "99ae1fab",
   "metadata": {},
   "source": [
    "#### d. Crear un espectrograma utilizando la función specshow de librosa:\n"
   ]
  },
  {
   "cell_type": "code",
   "execution_count": null,
   "id": "f22d251e",
   "metadata": {},
   "outputs": [],
   "source": [
    "```\n",
    "import librosa.display\n",
    "import matplotlib.pyplot as plt\n",
    "\n",
    "spectrogram = librosa.amplitude_to_db(librosa.stft(audio), ref=np.max)\n",
    "librosa.display.specshow(spectrogram, sr=sr, x_axis='time', y_axis='log')\n",
    "plt.colorbar(format='%+2.0f dB')\n",
    "plt.show()\n",
    "```\n"
   ]
  },
  {
   "cell_type": "markdown",
   "id": "8b77f937",
   "metadata": {},
   "source": [
    "#### e. Ejecutar el código y verificar que el espectrograma se muestra correctamente en la pantalla. \n",
    "# \n",
    "# Experimentar con diferentes configuraciones de parámetros para la función specshow para ajustar el espectrograma según sus necesidades.\n"
   ]
  },
  {
   "cell_type": "code",
   "execution_count": null,
   "id": "9563d2ef",
   "metadata": {},
   "outputs": [],
   "source": [
    "\n"
   ]
  },
  {
   "cell_type": "markdown",
   "id": "06950308",
   "metadata": {},
   "source": [
    "### 2. Usar la librería OpenCV de Python para cargar un archivo de video y extraer los cuadros del mismo.\n"
   ]
  },
  {
   "cell_type": "markdown",
   "id": "aefb21fa",
   "metadata": {},
   "source": [
    "#### a. Descargar un archivo de video en algún formato compatible con OpenCV, como MP4 o AVI, desde alguna fuente en línea o utilizar uno propio.\n"
   ]
  },
  {
   "cell_type": "code",
   "execution_count": null,
   "id": "a5e0863b",
   "metadata": {},
   "outputs": [],
   "source": [
    "\n"
   ]
  },
  {
   "cell_type": "markdown",
   "id": "b3bdad7e",
   "metadata": {},
   "source": [
    "#### b. Instalar la librería OpenCV de Python utilizando pip: pip install opencv-python.\n"
   ]
  },
  {
   "cell_type": "code",
   "execution_count": null,
   "id": "bfd25797",
   "metadata": {},
   "outputs": [],
   "source": [
    "\n"
   ]
  },
  {
   "cell_type": "markdown",
   "id": "2bce4489",
   "metadata": {},
   "source": [
    "#### c. Importar OpenCV y cargar el archivo de video utilizando la función VideoCapture:\n"
   ]
  },
  {
   "cell_type": "code",
   "execution_count": null,
   "id": "f9e73086",
   "metadata": {},
   "outputs": [],
   "source": [
    "```\n",
    "import cv2\n",
    "\n",
    "video = cv2.VideoCapture('ruta_del_archivo_de_video.mp4')\n",
    "```\n",
    "\n"
   ]
  },
  {
   "cell_type": "markdown",
   "id": "347741df",
   "metadata": {},
   "source": [
    "#### d. Extraer los cuadros del video utilizando un ciclo while y la función read:\n"
   ]
  },
  {
   "cell_type": "code",
   "execution_count": null,
   "id": "8569ee5b",
   "metadata": {},
   "outputs": [],
   "source": [
    "```\n",
    "success, image = video.read()\n",
    "count = 0\n",
    "\n",
    "while success:\n",
    "    cv2.imwrite(\"frame%d.jpg\" % count, image)\n",
    "    success, image = video.read()\n",
    "    count += 1\n",
    "```\n",
    "\n"
   ]
  },
  {
   "cell_type": "markdown",
   "id": "afbf94af",
   "metadata": {},
   "source": [
    "#### e. Ejecutar el código y verificar que se hayan generado correctamente los cuadros del video en formato JPG. \n",
    "# \n",
    "# Experimentar con diferentes configuraciones de parámetros para la función VideoCapture para ajustar la calidad y la velocidad de la extracción de cuadros según sus necesidades.\n"
   ]
  },
  {
   "cell_type": "code",
   "execution_count": null,
   "id": "24073072",
   "metadata": {},
   "outputs": [],
   "source": [
    "\n"
   ]
  },
  {
   "cell_type": "markdown",
   "id": "9027d6da",
   "metadata": {},
   "source": [
    "### 3 .Escribir un programa en Python que tome un archivo de audio y determine si hay alguna palabra hablada en él utilizando técnicas de reconocimiento de voz.\n"
   ]
  },
  {
   "cell_type": "markdown",
   "id": "b79883ba",
   "metadata": {},
   "source": [
    "#### a. Descargar un archivo de audio en formato WAV que contenga una o varias palabras habladas.\n"
   ]
  },
  {
   "cell_type": "code",
   "execution_count": null,
   "id": "8b0bc106",
   "metadata": {},
   "outputs": [],
   "source": [
    "\n"
   ]
  },
  {
   "cell_type": "markdown",
   "id": "61167a87",
   "metadata": {},
   "source": [
    "#### b. Instalar la librería SpeechRecognition de Python utilizando pip: pip install SpeechRecognition.\n"
   ]
  },
  {
   "cell_type": "code",
   "execution_count": null,
   "id": "0b7dd458",
   "metadata": {},
   "outputs": [],
   "source": [
    "\n"
   ]
  },
  {
   "cell_type": "markdown",
   "id": "d44884dd",
   "metadata": {},
   "source": [
    "#### c. Importar la librería SpeechRecognition y cargar el archivo de audio utilizando la función AudioFile:\n"
   ]
  },
  {
   "cell_type": "markdown",
   "id": "b04bdb61",
   "metadata": {},
   "source": [
    "# ```\n",
    "# import speech_recognition as sr\n",
    "# \n",
    "# recognizer = sr.Recognizer()\n",
    "# audio_file = sr.AudioFile('ruta_del_archivo_de_audio.wav')\n",
    "# ```\n",
    "# \n"
   ]
  },
  {
   "cell_type": "markdown",
   "id": "aaf55c37",
   "metadata": {},
   "source": [
    "#### d. Utilizar la función recognize_google de SpeechRecognition para transcribir el audio en texto:\n"
   ]
  },
  {
   "cell_type": "code",
   "execution_count": null,
   "id": "870ea415",
   "metadata": {},
   "outputs": [],
   "source": [
    "\n",
    "\n",
    "\n"
   ]
  }
 ],
 "metadata": {},
 "nbformat": 4,
 "nbformat_minor": 5
}
