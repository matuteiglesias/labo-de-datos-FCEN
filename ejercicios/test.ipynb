{
 "cells": [
  {
   "cell_type": "markdown",
   "id": "69d66c0c",
   "metadata": {},
   "source": [
    "# %% [markdown]\n",
    "## Procesamiento de audio y video\n"
   ]
  },
  {
   "cell_type": "markdown",
   "id": "f6189f52",
   "metadata": {},
   "source": [
    "### 1. Utilizar la librería librosa de Python para cargar un archivo de audio y crear un espectrograma del mismo.\n"
   ]
  },
  {
   "cell_type": "markdown",
   "id": "8b3ddb19",
   "metadata": {},
   "source": [
    "#### a. Descargar un archivo de audio en formato WAV desde alguna fuente en línea o utilizar uno propio.\n"
   ]
  },
  {
   "cell_type": "code",
   "execution_count": null,
   "id": "604c3037",
   "metadata": {},
   "outputs": [],
   "source": [
    "\n"
   ]
  },
  {
   "cell_type": "markdown",
   "id": "40b4a5f4",
   "metadata": {},
   "source": [
    "#### b. Instalar la librería librosa de Python utilizando pip: pip install librosa.\n"
   ]
  },
  {
   "cell_type": "code",
   "execution_count": null,
   "id": "06dae9e9",
   "metadata": {},
   "outputs": [],
   "source": [
    "\n"
   ]
  },
  {
   "cell_type": "markdown",
   "id": "eca389c9",
   "metadata": {},
   "source": [
    "#### c. Importar librosa y cargar el archivo de audio utilizando la función load:\n"
   ]
  },
  {
   "cell_type": "code",
   "execution_count": null,
   "id": "c5d548c7",
   "metadata": {},
   "outputs": [],
   "source": [
    "```\n",
    "import librosa\n",
    "audio, sr = librosa.load('ruta_del_archivo_de_audio.wav')\n",
    "```\n",
    "\n"
   ]
  },
  {
   "cell_type": "markdown",
   "id": "f9df2bfa",
   "metadata": {},
   "source": [
    "#### d. Crear un espectrograma utilizando la función specshow de librosa:\n"
   ]
  },
  {
   "cell_type": "code",
   "execution_count": null,
   "id": "09b6fa73",
   "metadata": {},
   "outputs": [],
   "source": [
    "```\n",
    "import librosa.display\n",
    "import matplotlib.pyplot as plt\n",
    "\n",
    "spectrogram = librosa.amplitude_to_db(librosa.stft(audio), ref=np.max)\n",
    "librosa.display.specshow(spectrogram, sr=sr, x_axis='time', y_axis='log')\n",
    "plt.colorbar(format='%+2.0f dB')\n",
    "plt.show()\n",
    "```\n"
   ]
  },
  {
   "cell_type": "markdown",
   "id": "78c5e38e",
   "metadata": {},
   "source": [
    "#### e. Ejecutar el código y verificar que el espectrograma se muestra correctamente en la pantalla. \n",
    "# \n",
    "# Experimentar con diferentes configuraciones de parámetros para la función specshow para ajustar el espectrograma según sus necesidades.\n"
   ]
  },
  {
   "cell_type": "code",
   "execution_count": null,
   "id": "72ceed6f",
   "metadata": {},
   "outputs": [],
   "source": [
    "\n"
   ]
  },
  {
   "cell_type": "markdown",
   "id": "fa96a15f",
   "metadata": {},
   "source": [
    "### 2. Usar la librería OpenCV de Python para cargar un archivo de video y extraer los cuadros del mismo.\n"
   ]
  },
  {
   "cell_type": "markdown",
   "id": "4e349b97",
   "metadata": {},
   "source": [
    "#### a. Descargar un archivo de video en algún formato compatible con OpenCV, como MP4 o AVI, desde alguna fuente en línea o utilizar uno propio.\n"
   ]
  },
  {
   "cell_type": "code",
   "execution_count": null,
   "id": "58719052",
   "metadata": {},
   "outputs": [],
   "source": [
    "\n"
   ]
  },
  {
   "cell_type": "markdown",
   "id": "e9049ec0",
   "metadata": {},
   "source": [
    "#### b. Instalar la librería OpenCV de Python utilizando pip: pip install opencv-python.\n"
   ]
  },
  {
   "cell_type": "code",
   "execution_count": null,
   "id": "9222fcf5",
   "metadata": {},
   "outputs": [],
   "source": [
    "\n"
   ]
  },
  {
   "cell_type": "markdown",
   "id": "788ce27e",
   "metadata": {},
   "source": [
    "#### c. Importar OpenCV y cargar el archivo de video utilizando la función VideoCapture:\n"
   ]
  },
  {
   "cell_type": "code",
   "execution_count": null,
   "id": "f3dc382c",
   "metadata": {},
   "outputs": [],
   "source": [
    "```\n",
    "import cv2\n",
    "\n",
    "video = cv2.VideoCapture('ruta_del_archivo_de_video.mp4')\n",
    "```\n",
    "\n"
   ]
  },
  {
   "cell_type": "markdown",
   "id": "0a15dfd7",
   "metadata": {},
   "source": [
    "#### d. Extraer los cuadros del video utilizando un ciclo while y la función read:\n"
   ]
  },
  {
   "cell_type": "code",
   "execution_count": null,
   "id": "81408de8",
   "metadata": {},
   "outputs": [],
   "source": [
    "```\n",
    "success, image = video.read()\n",
    "count = 0\n",
    "\n",
    "while success:\n",
    "    cv2.imwrite(\"frame%d.jpg\" % count, image)\n",
    "    success, image = video.read()\n",
    "    count += 1\n",
    "```\n",
    "\n"
   ]
  },
  {
   "cell_type": "markdown",
   "id": "9c924663",
   "metadata": {},
   "source": [
    "#### e. Ejecutar el código y verificar que se hayan generado correctamente los cuadros del video en formato JPG. \n",
    "# \n",
    "# Experimentar con diferentes configuraciones de parámetros para la función VideoCapture para ajustar la calidad y la velocidad de la extracción de cuadros según sus necesidades.\n"
   ]
  },
  {
   "cell_type": "code",
   "execution_count": null,
   "id": "22755628",
   "metadata": {},
   "outputs": [],
   "source": [
    "\n"
   ]
  },
  {
   "cell_type": "markdown",
   "id": "97e3afbd",
   "metadata": {},
   "source": [
    "### 3 .Escribir un programa en Python que tome un archivo de audio y determine si hay alguna palabra hablada en él utilizando técnicas de reconocimiento de voz.\n"
   ]
  },
  {
   "cell_type": "markdown",
   "id": "362b83a3",
   "metadata": {},
   "source": [
    "#### a. Descargar un archivo de audio en formato WAV que contenga una o varias palabras habladas.\n"
   ]
  },
  {
   "cell_type": "code",
   "execution_count": null,
   "id": "7c353b72",
   "metadata": {},
   "outputs": [],
   "source": [
    "\n"
   ]
  },
  {
   "cell_type": "markdown",
   "id": "9ad0f1ab",
   "metadata": {},
   "source": [
    "#### b. Instalar la librería SpeechRecognition de Python utilizando pip: pip install SpeechRecognition.\n"
   ]
  },
  {
   "cell_type": "code",
   "execution_count": null,
   "id": "2e2d1e76",
   "metadata": {},
   "outputs": [],
   "source": [
    "\n"
   ]
  },
  {
   "cell_type": "markdown",
   "id": "97a2287e",
   "metadata": {},
   "source": [
    "#### c. Importar la librería SpeechRecognition y cargar el archivo de audio utilizando la función AudioFile:\n"
   ]
  },
  {
   "cell_type": "markdown",
   "id": "f9580633",
   "metadata": {},
   "source": [
    "# ```\n",
    "# import speech_recognition as sr\n",
    "# \n",
    "# recognizer = sr.Recognizer()\n",
    "# audio_file = sr.AudioFile('ruta_del_archivo_de_audio.wav')\n",
    "# ```\n",
    "# \n"
   ]
  },
  {
   "cell_type": "markdown",
   "id": "6a5f9c42",
   "metadata": {},
   "source": [
    "#### d. Utilizar la función recognize_google de SpeechRecognition para transcribir el audio en texto:\n"
   ]
  },
  {
   "cell_type": "code",
   "execution_count": null,
   "id": "8564d3fa",
   "metadata": {},
   "outputs": [],
   "source": [
    "\n",
    "\n"
   ]
  },
  {
   "cell_type": "markdown",
   "id": "861b7b81",
   "metadata": {},
   "source": [
    "## Introducción a SQL"
   ]
  },
  {
   "cell_type": "markdown",
   "id": "7775a235",
   "metadata": {},
   "source": [
    "### 1. Crear una base de datos en SQL"
   ]
  },
  {
   "cell_type": "markdown",
   "id": "6e3703ed",
   "metadata": {},
   "source": [
    "#### a. Instalar un motor de base de datos SQL, como SQLite o MySQL."
   ]
  },
  {
   "cell_type": "code",
   "execution_count": null,
   "id": "368e335d",
   "metadata": {},
   "outputs": [],
   "source": [
    "# %% [markdown]\n",
    "#### b. Crear una base de datos vacía utilizando la sintaxis SQL adecuada."
   ]
  },
  {
   "cell_type": "code",
   "execution_count": null,
   "id": "c80bf134",
   "metadata": {},
   "outputs": [],
   "source": [
    "# %% [markdown]\n",
    "### 2. Crear una tabla en la base de datos"
   ]
  },
  {
   "cell_type": "markdown",
   "id": "fc3aea4b",
   "metadata": {},
   "source": [
    "#### a. Definir una estructura para la tabla, incluyendo los nombres y tipos de datos de las columnas."
   ]
  },
  {
   "cell_type": "code",
   "execution_count": null,
   "id": "396f280f",
   "metadata": {},
   "outputs": [],
   "source": [
    "# %% [markdown]\n",
    "#### b. Utilizar la sintaxis SQL adecuada para crear la tabla en la base de datos."
   ]
  },
  {
   "cell_type": "code",
   "execution_count": null,
   "id": "4bf21ea5",
   "metadata": {},
   "outputs": [],
   "source": [
    "# %% [markdown]\n",
    "### 3. Insertar datos en la tabla"
   ]
  },
  {
   "cell_type": "markdown",
   "id": "75a52dd7",
   "metadata": {},
   "source": [
    "#### a. Crear una serie de registros de datos para insertar en la tabla."
   ]
  },
  {
   "cell_type": "code",
   "execution_count": null,
   "id": "b83f98ca",
   "metadata": {},
   "outputs": [],
   "source": [
    "# %% [markdown]\n",
    "#### b. Utilizar la sintaxis SQL adecuada para insertar los registros en la tabla."
   ]
  },
  {
   "cell_type": "code",
   "execution_count": null,
   "id": "28805fd3",
   "metadata": {},
   "outputs": [],
   "source": [
    "# %% [markdown]\n",
    "### 4. Seleccionar datos de la tabla"
   ]
  },
  {
   "cell_type": "markdown",
   "id": "070046a5",
   "metadata": {},
   "source": [
    "#### a. Utilizar la sintaxis SQL adecuada para seleccionar todos los registros de la tabla."
   ]
  },
  {
   "cell_type": "code",
   "execution_count": null,
   "id": "521dd546",
   "metadata": {},
   "outputs": [],
   "source": [
    "# %% [markdown]\n",
    "#### b. Utilizar la sintaxis SQL adecuada para seleccionar registros específicos de la tabla."
   ]
  },
  {
   "cell_type": "code",
   "execution_count": null,
   "id": "7f8e0039",
   "metadata": {},
   "outputs": [],
   "source": [
    "# %% [markdown]\n",
    "### 5. Actualizar registros en la tabla"
   ]
  },
  {
   "cell_type": "markdown",
   "id": "988e6ea2",
   "metadata": {},
   "source": [
    "#### a. Utilizar la sintaxis SQL adecuada para actualizar un registro específico de la tabla."
   ]
  },
  {
   "cell_type": "code",
   "execution_count": null,
   "id": "536561da",
   "metadata": {},
   "outputs": [],
   "source": [
    "# %% [markdown]\n",
    "### 6. Borrar registros de la tabla"
   ]
  },
  {
   "cell_type": "markdown",
   "id": "2e6f1ebb",
   "metadata": {},
   "source": [
    "#### a. Utilizar la sintaxis SQL adecuada para borrar un registro específico de la tabla."
   ]
  },
  {
   "cell_type": "code",
   "execution_count": null,
   "id": "3a9ca261",
   "metadata": {},
   "outputs": [],
   "source": [
    "# %% [markdown]\n",
    "#### b. Utilizar la sintaxis SQL adecuada para borrar todos los registros de la tabla.\n",
    "# %%"
   ]
  }
 ],
 "metadata": {},
 "nbformat": 4,
 "nbformat_minor": 5
}
