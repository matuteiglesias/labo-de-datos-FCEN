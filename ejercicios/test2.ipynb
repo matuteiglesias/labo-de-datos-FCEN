{
 "cells": [
  {
   "cell_type": "code",
   "execution_count": null,
   "id": "7d947dc4",
   "metadata": {},
   "outputs": [],
   "source": [
    "# %% [markdown]\n",
    "## Procesamiento de audio y video\n",
    "\n",
    "\n"
   ]
  },
  {
   "cell_type": "markdown",
   "id": "cfce97f9",
   "metadata": {},
   "source": [
    "### 1. Utilizar la librería librosa de Python para cargar un archivo de audio y crear un espectrograma del mismo.\n",
    "\n",
    "\n"
   ]
  },
  {
   "cell_type": "markdown",
   "id": "c95a7b00",
   "metadata": {},
   "source": [
    "#### a. Descargar un archivo de audio en formato WAV desde alguna fuente en línea o utilizar uno propio.\n",
    "\n",
    "\n"
   ]
  },
  {
   "cell_type": "code",
   "execution_count": null,
   "id": "5bcbb955",
   "metadata": {},
   "outputs": [],
   "source": [
    "\n",
    "\n",
    "\n"
   ]
  },
  {
   "cell_type": "markdown",
   "id": "f95be4fe",
   "metadata": {},
   "source": [
    "#### b. Instalar la librería librosa de Python utilizando pip: pip install librosa.\n",
    "\n",
    "\n"
   ]
  },
  {
   "cell_type": "code",
   "execution_count": null,
   "id": "4503dc78",
   "metadata": {},
   "outputs": [],
   "source": [
    "\n",
    "\n",
    "\n"
   ]
  },
  {
   "cell_type": "markdown",
   "id": "1ba7ff8d",
   "metadata": {},
   "source": [
    "#### c. Importar librosa y cargar el archivo de audio utilizando la función load:\n",
    "\n",
    "\n"
   ]
  },
  {
   "cell_type": "code",
   "execution_count": null,
   "id": "9692e78e",
   "metadata": {},
   "outputs": [],
   "source": [
    "```\n",
    "import librosa\n",
    "audio, sr = librosa.load('ruta_del_archivo_de_audio.wav')\n",
    "```\n",
    "\n",
    "\n",
    "\n"
   ]
  },
  {
   "cell_type": "markdown",
   "id": "a3372810",
   "metadata": {},
   "source": [
    "#### d. Crear un espectrograma utilizando la función specshow de librosa:\n",
    "\n",
    "\n"
   ]
  },
  {
   "cell_type": "code",
   "execution_count": null,
   "id": "f128ca2d",
   "metadata": {},
   "outputs": [],
   "source": [
    "```\n",
    "import librosa.display\n",
    "import matplotlib.pyplot as plt\n",
    "\n",
    "spectrogram = librosa.amplitude_to_db(librosa.stft(audio), ref=np.max)\n",
    "librosa.display.specshow(spectrogram, sr=sr, x_axis='time', y_axis='log')\n",
    "plt.colorbar(format='%+2.0f dB')\n",
    "plt.show()\n",
    "```\n",
    "\n",
    "\n"
   ]
  },
  {
   "cell_type": "markdown",
   "id": "bd42d990",
   "metadata": {},
   "source": [
    "#### e. Ejecutar el código y verificar que el espectrograma se muestra correctamente en la pantalla. \n",
    "# \n",
    "# Experimentar con diferentes configuraciones de parámetros para la función specshow para ajustar el espectrograma según sus necesidades.\n",
    "\n",
    "\n"
   ]
  },
  {
   "cell_type": "code",
   "execution_count": null,
   "id": "35136d06",
   "metadata": {},
   "outputs": [],
   "source": [
    "\n",
    "\n",
    "\n"
   ]
  },
  {
   "cell_type": "markdown",
   "id": "9e603080",
   "metadata": {},
   "source": [
    "### 2. Usar la librería OpenCV de Python para cargar un archivo de video y extraer los cuadros del mismo.\n",
    "\n",
    "\n"
   ]
  },
  {
   "cell_type": "markdown",
   "id": "53208ea1",
   "metadata": {},
   "source": [
    "#### a. Descargar un archivo de video en algún formato compatible con OpenCV, como MP4 o AVI, desde alguna fuente en línea o utilizar uno propio.\n",
    "\n",
    "\n"
   ]
  },
  {
   "cell_type": "code",
   "execution_count": null,
   "id": "805c78b4",
   "metadata": {},
   "outputs": [],
   "source": [
    "\n",
    "\n",
    "\n"
   ]
  },
  {
   "cell_type": "markdown",
   "id": "398398fe",
   "metadata": {},
   "source": [
    "#### b. Instalar la librería OpenCV de Python utilizando pip: pip install opencv-python.\n",
    "\n",
    "\n"
   ]
  },
  {
   "cell_type": "code",
   "execution_count": null,
   "id": "98404026",
   "metadata": {},
   "outputs": [],
   "source": [
    "\n",
    "\n",
    "\n"
   ]
  },
  {
   "cell_type": "markdown",
   "id": "680f34d7",
   "metadata": {},
   "source": [
    "#### c. Importar OpenCV y cargar el archivo de video utilizando la función VideoCapture:\n",
    "\n",
    "\n"
   ]
  },
  {
   "cell_type": "code",
   "execution_count": null,
   "id": "88933785",
   "metadata": {},
   "outputs": [],
   "source": [
    "```\n",
    "import cv2\n",
    "\n",
    "video = cv2.VideoCapture('ruta_del_archivo_de_video.mp4')\n",
    "```\n",
    "\n",
    "\n",
    "\n"
   ]
  },
  {
   "cell_type": "markdown",
   "id": "bd9e13d9",
   "metadata": {},
   "source": [
    "#### d. Extraer los cuadros del video utilizando un ciclo while y la función read:\n",
    "\n",
    "\n"
   ]
  },
  {
   "cell_type": "code",
   "execution_count": null,
   "id": "cca499f7",
   "metadata": {},
   "outputs": [],
   "source": [
    "```\n",
    "success, image = video.read()\n",
    "count = 0\n",
    "\n",
    "while success:\n",
    "    cv2.imwrite(\"frame%d.jpg\" % count, image)\n",
    "    success, image = video.read()\n",
    "    count += 1\n",
    "```\n",
    "\n",
    "\n",
    "\n"
   ]
  },
  {
   "cell_type": "markdown",
   "id": "2d202fa1",
   "metadata": {},
   "source": [
    "#### e. Ejecutar el código y verificar que se hayan generado correctamente los cuadros del video en formato JPG. \n",
    "# \n",
    "# Experimentar con diferentes configuraciones de parámetros para la función VideoCapture para ajustar la calidad y la velocidad de la extracción de cuadros según sus necesidades.\n",
    "\n",
    "\n"
   ]
  },
  {
   "cell_type": "code",
   "execution_count": null,
   "id": "a53b76fe",
   "metadata": {},
   "outputs": [],
   "source": [
    "\n",
    "\n",
    "\n"
   ]
  },
  {
   "cell_type": "markdown",
   "id": "d3d094b5",
   "metadata": {},
   "source": [
    "### 3 .Escribir un programa en Python que tome un archivo de audio y determine si hay alguna palabra hablada en él utilizando técnicas de reconocimiento de voz.\n",
    "\n",
    "\n"
   ]
  },
  {
   "cell_type": "markdown",
   "id": "69b3b9be",
   "metadata": {},
   "source": [
    "#### a. Descargar un archivo de audio en formato WAV que contenga una o varias palabras habladas.\n",
    "\n",
    "\n"
   ]
  },
  {
   "cell_type": "code",
   "execution_count": null,
   "id": "82905e91",
   "metadata": {},
   "outputs": [],
   "source": [
    "\n",
    "\n",
    "\n"
   ]
  },
  {
   "cell_type": "markdown",
   "id": "523b2870",
   "metadata": {},
   "source": [
    "#### b. Instalar la librería SpeechRecognition de Python utilizando pip: pip install SpeechRecognition.\n",
    "\n",
    "\n"
   ]
  },
  {
   "cell_type": "code",
   "execution_count": null,
   "id": "207f4692",
   "metadata": {},
   "outputs": [],
   "source": [
    "\n",
    "\n",
    "\n"
   ]
  },
  {
   "cell_type": "markdown",
   "id": "d43d6385",
   "metadata": {},
   "source": [
    "#### c. Importar la librería SpeechRecognition y cargar el archivo de audio utilizando la función AudioFile:\n",
    "\n",
    "\n"
   ]
  },
  {
   "cell_type": "markdown",
   "id": "8d127daa",
   "metadata": {},
   "source": [
    "# ```\n",
    "# import speech_recognition as sr\n",
    "# \n",
    "# recognizer = sr.Recognizer()\n",
    "# audio_file = sr.AudioFile('ruta_del_archivo_de_audio.wav')\n",
    "# ```\n",
    "# \n",
    "\n",
    "\n"
   ]
  },
  {
   "cell_type": "markdown",
   "id": "92cd49ae",
   "metadata": {},
   "source": [
    "#### d. Utilizar la función recognize_google de SpeechRecognition para transcribir el audio en texto:\n",
    "\n",
    "\n"
   ]
  },
  {
   "cell_type": "code",
   "execution_count": null,
   "id": "033498f5",
   "metadata": {},
   "outputs": [],
   "source": [
    "\n",
    "\n",
    "\n"
   ]
  },
  {
   "cell_type": "markdown",
   "id": "aec9bf9a",
   "metadata": {},
   "source": [
    "## Introducción a SQL\n",
    "\n",
    "\n"
   ]
  },
  {
   "cell_type": "markdown",
   "id": "8ec74600",
   "metadata": {},
   "source": [
    "### 1. Crear una base de datos en SQL\n",
    "\n",
    "\n"
   ]
  },
  {
   "cell_type": "markdown",
   "id": "ce4c4c09",
   "metadata": {},
   "source": [
    "#### a. Instalar un motor de base de datos SQL, como SQLite o MySQL.\n",
    "\n",
    "\n"
   ]
  },
  {
   "cell_type": "code",
   "execution_count": null,
   "id": "76778d2a",
   "metadata": {},
   "outputs": [],
   "source": [
    "\n",
    "\n",
    "\n"
   ]
  },
  {
   "cell_type": "markdown",
   "id": "475b4672",
   "metadata": {},
   "source": [
    "#### b. Crear una base de datos vacía utilizando la sintaxis SQL adecuada.\n",
    "\n",
    "\n"
   ]
  },
  {
   "cell_type": "code",
   "execution_count": null,
   "id": "d2fa83f7",
   "metadata": {},
   "outputs": [],
   "source": [
    "\n",
    "\n",
    "\n"
   ]
  },
  {
   "cell_type": "markdown",
   "id": "deb999d6",
   "metadata": {},
   "source": [
    "## Introducción a SQL\n",
    "\n"
   ]
  },
  {
   "cell_type": "markdown",
   "id": "80cc46ae",
   "metadata": {},
   "source": [
    "### 1. Crear una base de datos en SQL\n",
    "\n"
   ]
  },
  {
   "cell_type": "markdown",
   "id": "f50a63fe",
   "metadata": {},
   "source": [
    "#### a. Instalar un motor de base de datos SQL, como SQLite o MySQL.\n",
    "\n"
   ]
  },
  {
   "cell_type": "code",
   "execution_count": null,
   "id": "d08c10e7",
   "metadata": {},
   "outputs": [],
   "source": [
    "\n"
   ]
  },
  {
   "cell_type": "markdown",
   "id": "9b7a0108",
   "metadata": {},
   "source": [
    "#### b. Crear una base de datos vacía utilizando la sintaxis SQL adecuada.\n",
    "\n",
    "\n"
   ]
  },
  {
   "cell_type": "code",
   "execution_count": null,
   "id": "01ee39b3",
   "metadata": {},
   "outputs": [],
   "source": [
    "\n",
    "\n"
   ]
  },
  {
   "cell_type": "markdown",
   "id": "96ae2164",
   "metadata": {},
   "source": [
    "### 2. Crear una tabla en la base de datos\n",
    "\n",
    "\n"
   ]
  },
  {
   "cell_type": "markdown",
   "id": "b879ee75",
   "metadata": {},
   "source": [
    "#### a. Definir una estructura para la tabla, incluyendo los nombres y tipos de datos de las columnas.\n",
    "\n",
    "\n"
   ]
  },
  {
   "cell_type": "code",
   "execution_count": null,
   "id": "2bcb1c06",
   "metadata": {},
   "outputs": [],
   "source": [
    "\n",
    "\n"
   ]
  },
  {
   "cell_type": "markdown",
   "id": "d66d8961",
   "metadata": {},
   "source": [
    "#### b. Utilizar la sintaxis SQL adecuada para crear la tabla en la base de datos.\n",
    "\n",
    "\n"
   ]
  },
  {
   "cell_type": "code",
   "execution_count": null,
   "id": "4a9c06ca",
   "metadata": {},
   "outputs": [],
   "source": [
    "\n"
   ]
  },
  {
   "cell_type": "markdown",
   "id": "a0fb72f3",
   "metadata": {},
   "source": [
    "### 3. Insertar datos en la tabla\n",
    "\n"
   ]
  },
  {
   "cell_type": "markdown",
   "id": "71c5c9b4",
   "metadata": {},
   "source": [
    "#### a. Crear una serie de registros de datos para insertar en la tabla.\n",
    "\n"
   ]
  },
  {
   "cell_type": "code",
   "execution_count": null,
   "id": "b70d748e",
   "metadata": {},
   "outputs": [],
   "source": [
    "\n"
   ]
  },
  {
   "cell_type": "markdown",
   "id": "b3252193",
   "metadata": {},
   "source": [
    "#### b. Utilizar la sintaxis SQL adecuada para insertar los registros en la tabla.\n",
    "\n"
   ]
  },
  {
   "cell_type": "code",
   "execution_count": null,
   "id": "7ada4406",
   "metadata": {},
   "outputs": [],
   "source": [
    "\n"
   ]
  },
  {
   "cell_type": "markdown",
   "id": "b83ae300",
   "metadata": {},
   "source": [
    "### 4. Seleccionar datos de la tabla\n",
    "\n"
   ]
  },
  {
   "cell_type": "markdown",
   "id": "16ae68c4",
   "metadata": {},
   "source": [
    "#### a. Utilizar la sintaxis SQL adecuada para seleccionar todos los registros de la tabla.\n",
    "\n"
   ]
  },
  {
   "cell_type": "code",
   "execution_count": null,
   "id": "b21d4aae",
   "metadata": {},
   "outputs": [],
   "source": [
    "\n"
   ]
  },
  {
   "cell_type": "markdown",
   "id": "0bf28d7c",
   "metadata": {},
   "source": [
    "#### b. Utilizar la sintaxis SQL adecuada para seleccionar registros específicos de la tabla.\n",
    "\n"
   ]
  },
  {
   "cell_type": "code",
   "execution_count": null,
   "id": "1ff44679",
   "metadata": {},
   "outputs": [],
   "source": [
    "\n"
   ]
  },
  {
   "cell_type": "markdown",
   "id": "1c7f9ac7",
   "metadata": {},
   "source": [
    "### 5. Actualizar registros en la tabla\n",
    "\n"
   ]
  },
  {
   "cell_type": "markdown",
   "id": "5ba549f2",
   "metadata": {},
   "source": [
    "#### a. Utilizar la sintaxis SQL adecuada para actualizar un registro específico de la tabla.\n",
    "\n"
   ]
  },
  {
   "cell_type": "code",
   "execution_count": null,
   "id": "2c35dece",
   "metadata": {},
   "outputs": [],
   "source": [
    "\n"
   ]
  },
  {
   "cell_type": "markdown",
   "id": "dfb7f1b7",
   "metadata": {},
   "source": [
    "### 6. Borrar registros de la tabla\n",
    "\n"
   ]
  },
  {
   "cell_type": "markdown",
   "id": "213b7660",
   "metadata": {},
   "source": [
    "#### a. Utilizar la sintaxis SQL adecuada para borrar un registro específico de la tabla.\n",
    "\n"
   ]
  },
  {
   "cell_type": "code",
   "execution_count": null,
   "id": "af302596",
   "metadata": {},
   "outputs": [],
   "source": [
    "\n"
   ]
  },
  {
   "cell_type": "markdown",
   "id": "1ca9f48f",
   "metadata": {},
   "source": [
    "#### b. Utilizar la sintaxis SQL adecuada para borrar todos los registros de la tabla.\n",
    "\n",
    "\n",
    "# %%"
   ]
  }
 ],
 "metadata": {},
 "nbformat": 4,
 "nbformat_minor": 5
}
